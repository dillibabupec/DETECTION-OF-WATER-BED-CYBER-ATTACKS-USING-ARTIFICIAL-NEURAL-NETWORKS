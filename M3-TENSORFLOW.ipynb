{
 "cells": [
  {
   "cell_type": "markdown",
   "id": "f23cd813",
   "metadata": {},
   "source": [
    "# ARTIFICIAL NEURAL NETWORK"
   ]
  },
  {
   "cell_type": "code",
   "execution_count": 26,
   "id": "c7ac72fa",
   "metadata": {},
   "outputs": [],
   "source": [
    "import pandas as pd\n",
    "import numpy as np\n",
    "import matplotlib.pyplot as plt\n",
    "import seaborn as sns\n",
    "import warnings\n",
    "warnings.filterwarnings('ignore')"
   ]
  },
  {
   "cell_type": "code",
   "execution_count": 27,
   "id": "efecb829",
   "metadata": {
    "scrolled": true
   },
   "outputs": [
    {
     "data": {
      "text/html": [
       "<div>\n",
       "<style scoped>\n",
       "    .dataframe tbody tr th:only-of-type {\n",
       "        vertical-align: middle;\n",
       "    }\n",
       "\n",
       "    .dataframe tbody tr th {\n",
       "        vertical-align: top;\n",
       "    }\n",
       "\n",
       "    .dataframe thead th {\n",
       "        text-align: right;\n",
       "    }\n",
       "</style>\n",
       "<table border=\"1\" class=\"dataframe\">\n",
       "  <thead>\n",
       "    <tr style=\"text-align: right;\">\n",
       "      <th></th>\n",
       "      <th>L_T1</th>\n",
       "      <th>L_T2</th>\n",
       "      <th>L_T3</th>\n",
       "      <th>L_T4</th>\n",
       "      <th>L_T5</th>\n",
       "      <th>L_T6</th>\n",
       "      <th>L_T7</th>\n",
       "      <th>F_PU1</th>\n",
       "      <th>F_PU2</th>\n",
       "      <th>S_PU2</th>\n",
       "      <th>...</th>\n",
       "      <th>P_J256</th>\n",
       "      <th>P_J289</th>\n",
       "      <th>P_J415</th>\n",
       "      <th>P_J302</th>\n",
       "      <th>P_J306</th>\n",
       "      <th>P_J307</th>\n",
       "      <th>P_J317</th>\n",
       "      <th>P_J14</th>\n",
       "      <th>P_J422</th>\n",
       "      <th>ATT_FLAG</th>\n",
       "    </tr>\n",
       "  </thead>\n",
       "  <tbody>\n",
       "    <tr>\n",
       "      <th>0</th>\n",
       "      <td>2.44</td>\n",
       "      <td>5.24</td>\n",
       "      <td>3.19</td>\n",
       "      <td>4.10</td>\n",
       "      <td>2.86</td>\n",
       "      <td>5.50</td>\n",
       "      <td>4.39</td>\n",
       "      <td>93.63</td>\n",
       "      <td>93.65</td>\n",
       "      <td>1</td>\n",
       "      <td>...</td>\n",
       "      <td>70.00</td>\n",
       "      <td>28.22</td>\n",
       "      <td>85.87</td>\n",
       "      <td>21.69</td>\n",
       "      <td>82.72</td>\n",
       "      <td>21.58</td>\n",
       "      <td>71.99</td>\n",
       "      <td>39.33</td>\n",
       "      <td>29.64</td>\n",
       "      <td>0</td>\n",
       "    </tr>\n",
       "    <tr>\n",
       "      <th>1</th>\n",
       "      <td>2.66</td>\n",
       "      <td>4.53</td>\n",
       "      <td>3.20</td>\n",
       "      <td>4.18</td>\n",
       "      <td>3.29</td>\n",
       "      <td>5.44</td>\n",
       "      <td>4.53</td>\n",
       "      <td>89.41</td>\n",
       "      <td>89.43</td>\n",
       "      <td>1</td>\n",
       "      <td>...</td>\n",
       "      <td>87.73</td>\n",
       "      <td>24.45</td>\n",
       "      <td>84.87</td>\n",
       "      <td>29.81</td>\n",
       "      <td>86.62</td>\n",
       "      <td>29.81</td>\n",
       "      <td>59.76</td>\n",
       "      <td>42.17</td>\n",
       "      <td>26.15</td>\n",
       "      <td>0</td>\n",
       "    </tr>\n",
       "    <tr>\n",
       "      <th>2</th>\n",
       "      <td>3.11</td>\n",
       "      <td>3.66</td>\n",
       "      <td>3.66</td>\n",
       "      <td>4.21</td>\n",
       "      <td>3.87</td>\n",
       "      <td>5.15</td>\n",
       "      <td>3.22</td>\n",
       "      <td>89.88</td>\n",
       "      <td>89.89</td>\n",
       "      <td>1</td>\n",
       "      <td>...</td>\n",
       "      <td>89.29</td>\n",
       "      <td>23.90</td>\n",
       "      <td>87.11</td>\n",
       "      <td>29.85</td>\n",
       "      <td>87.64</td>\n",
       "      <td>29.85</td>\n",
       "      <td>58.50</td>\n",
       "      <td>42.00</td>\n",
       "      <td>25.56</td>\n",
       "      <td>0</td>\n",
       "    </tr>\n",
       "    <tr>\n",
       "      <th>3</th>\n",
       "      <td>3.62</td>\n",
       "      <td>3.04</td>\n",
       "      <td>4.17</td>\n",
       "      <td>4.04</td>\n",
       "      <td>3.56</td>\n",
       "      <td>4.98</td>\n",
       "      <td>2.40</td>\n",
       "      <td>88.10</td>\n",
       "      <td>88.12</td>\n",
       "      <td>1</td>\n",
       "      <td>...</td>\n",
       "      <td>91.98</td>\n",
       "      <td>27.10</td>\n",
       "      <td>68.75</td>\n",
       "      <td>31.60</td>\n",
       "      <td>64.25</td>\n",
       "      <td>31.47</td>\n",
       "      <td>72.30</td>\n",
       "      <td>43.24</td>\n",
       "      <td>28.38</td>\n",
       "      <td>0</td>\n",
       "    </tr>\n",
       "    <tr>\n",
       "      <th>4</th>\n",
       "      <td>4.08</td>\n",
       "      <td>2.68</td>\n",
       "      <td>4.73</td>\n",
       "      <td>3.20</td>\n",
       "      <td>3.11</td>\n",
       "      <td>5.39</td>\n",
       "      <td>3.46</td>\n",
       "      <td>87.01</td>\n",
       "      <td>87.03</td>\n",
       "      <td>1</td>\n",
       "      <td>...</td>\n",
       "      <td>92.11</td>\n",
       "      <td>26.76</td>\n",
       "      <td>68.74</td>\n",
       "      <td>32.30</td>\n",
       "      <td>64.23</td>\n",
       "      <td>32.17</td>\n",
       "      <td>72.53</td>\n",
       "      <td>44.00</td>\n",
       "      <td>28.04</td>\n",
       "      <td>0</td>\n",
       "    </tr>\n",
       "  </tbody>\n",
       "</table>\n",
       "<p>5 rows × 37 columns</p>\n",
       "</div>"
      ],
      "text/plain": [
       "   L_T1  L_T2  L_T3  L_T4  L_T5  L_T6  L_T7  F_PU1  F_PU2  S_PU2  ...  P_J256  \\\n",
       "0  2.44  5.24  3.19  4.10  2.86  5.50  4.39  93.63  93.65      1  ...   70.00   \n",
       "1  2.66  4.53  3.20  4.18  3.29  5.44  4.53  89.41  89.43      1  ...   87.73   \n",
       "2  3.11  3.66  3.66  4.21  3.87  5.15  3.22  89.88  89.89      1  ...   89.29   \n",
       "3  3.62  3.04  4.17  4.04  3.56  4.98  2.40  88.10  88.12      1  ...   91.98   \n",
       "4  4.08  2.68  4.73  3.20  3.11  5.39  3.46  87.01  87.03      1  ...   92.11   \n",
       "\n",
       "   P_J289  P_J415  P_J302  P_J306  P_J307  P_J317  P_J14  P_J422  ATT_FLAG  \n",
       "0   28.22   85.87   21.69   82.72   21.58   71.99  39.33   29.64         0  \n",
       "1   24.45   84.87   29.81   86.62   29.81   59.76  42.17   26.15         0  \n",
       "2   23.90   87.11   29.85   87.64   29.85   58.50  42.00   25.56         0  \n",
       "3   27.10   68.75   31.60   64.25   31.47   72.30  43.24   28.38         0  \n",
       "4   26.76   68.74   32.30   64.23   32.17   72.53  44.00   28.04         0  \n",
       "\n",
       "[5 rows x 37 columns]"
      ]
     },
     "execution_count": 27,
     "metadata": {},
     "output_type": "execute_result"
    }
   ],
   "source": [
    "df = pd.read_csv('A.csv')\n",
    "del df['DATETIME']\n",
    "del df['F_PU9']\n",
    "del df['S_PU9']\n",
    "del df['F_PU5']\n",
    "del df['S_PU5']\n",
    "del df['F_PU3']\n",
    "del df['S_PU3']\n",
    "del df['S_PU1']\n",
    "df.head()"
   ]
  },
  {
   "cell_type": "code",
   "execution_count": 28,
   "id": "d785e357",
   "metadata": {},
   "outputs": [],
   "source": [
    "df=df.dropna()"
   ]
  },
  {
   "cell_type": "code",
   "execution_count": 29,
   "id": "7a0f30c1",
   "metadata": {},
   "outputs": [
    {
     "data": {
      "text/plain": [
       "Index(['L_T1', 'L_T2', 'L_T3', 'L_T4', 'L_T5', 'L_T6', 'L_T7', 'F_PU1',\n",
       "       'F_PU2', 'S_PU2', 'F_PU4', 'S_PU4', 'F_PU6', 'S_PU6', 'F_PU7', 'S_PU7',\n",
       "       'F_PU8', 'S_PU8', 'F_PU10', 'S_PU10', 'F_PU11', 'S_PU11', 'F_V2',\n",
       "       'S_V2', 'P_J280', 'P_J269', 'P_J300', 'P_J256', 'P_J289', 'P_J415',\n",
       "       'P_J302', 'P_J306', 'P_J307', 'P_J317', 'P_J14', 'P_J422', 'ATT_FLAG'],\n",
       "      dtype='object')"
      ]
     },
     "execution_count": 29,
     "metadata": {},
     "output_type": "execute_result"
    }
   ],
   "source": [
    "df.columns"
   ]
  },
  {
   "cell_type": "code",
   "execution_count": 30,
   "id": "713eb254",
   "metadata": {},
   "outputs": [
    {
     "data": {
      "text/html": [
       "<div>\n",
       "<style scoped>\n",
       "    .dataframe tbody tr th:only-of-type {\n",
       "        vertical-align: middle;\n",
       "    }\n",
       "\n",
       "    .dataframe tbody tr th {\n",
       "        vertical-align: top;\n",
       "    }\n",
       "\n",
       "    .dataframe thead th {\n",
       "        text-align: right;\n",
       "    }\n",
       "</style>\n",
       "<table border=\"1\" class=\"dataframe\">\n",
       "  <thead>\n",
       "    <tr style=\"text-align: right;\">\n",
       "      <th></th>\n",
       "      <th>L_T1</th>\n",
       "      <th>L_T2</th>\n",
       "      <th>L_T3</th>\n",
       "      <th>L_T4</th>\n",
       "      <th>L_T5</th>\n",
       "      <th>L_T6</th>\n",
       "      <th>L_T7</th>\n",
       "      <th>F_PU1</th>\n",
       "      <th>F_PU2</th>\n",
       "      <th>S_PU2</th>\n",
       "      <th>...</th>\n",
       "      <th>P_J256</th>\n",
       "      <th>P_J289</th>\n",
       "      <th>P_J415</th>\n",
       "      <th>P_J302</th>\n",
       "      <th>P_J306</th>\n",
       "      <th>P_J307</th>\n",
       "      <th>P_J317</th>\n",
       "      <th>P_J14</th>\n",
       "      <th>P_J422</th>\n",
       "      <th>ATT_FLAG</th>\n",
       "    </tr>\n",
       "  </thead>\n",
       "  <tbody>\n",
       "    <tr>\n",
       "      <th>0</th>\n",
       "      <td>2.44</td>\n",
       "      <td>5.24</td>\n",
       "      <td>3.19</td>\n",
       "      <td>4.10</td>\n",
       "      <td>2.86</td>\n",
       "      <td>5.50</td>\n",
       "      <td>4.39</td>\n",
       "      <td>93.63</td>\n",
       "      <td>93.65</td>\n",
       "      <td>1</td>\n",
       "      <td>...</td>\n",
       "      <td>70.00</td>\n",
       "      <td>28.22</td>\n",
       "      <td>85.87</td>\n",
       "      <td>21.69</td>\n",
       "      <td>82.72</td>\n",
       "      <td>21.58</td>\n",
       "      <td>71.99</td>\n",
       "      <td>39.33</td>\n",
       "      <td>29.64</td>\n",
       "      <td>0</td>\n",
       "    </tr>\n",
       "    <tr>\n",
       "      <th>1</th>\n",
       "      <td>2.66</td>\n",
       "      <td>4.53</td>\n",
       "      <td>3.20</td>\n",
       "      <td>4.18</td>\n",
       "      <td>3.29</td>\n",
       "      <td>5.44</td>\n",
       "      <td>4.53</td>\n",
       "      <td>89.41</td>\n",
       "      <td>89.43</td>\n",
       "      <td>1</td>\n",
       "      <td>...</td>\n",
       "      <td>87.73</td>\n",
       "      <td>24.45</td>\n",
       "      <td>84.87</td>\n",
       "      <td>29.81</td>\n",
       "      <td>86.62</td>\n",
       "      <td>29.81</td>\n",
       "      <td>59.76</td>\n",
       "      <td>42.17</td>\n",
       "      <td>26.15</td>\n",
       "      <td>0</td>\n",
       "    </tr>\n",
       "    <tr>\n",
       "      <th>2</th>\n",
       "      <td>3.11</td>\n",
       "      <td>3.66</td>\n",
       "      <td>3.66</td>\n",
       "      <td>4.21</td>\n",
       "      <td>3.87</td>\n",
       "      <td>5.15</td>\n",
       "      <td>3.22</td>\n",
       "      <td>89.88</td>\n",
       "      <td>89.89</td>\n",
       "      <td>1</td>\n",
       "      <td>...</td>\n",
       "      <td>89.29</td>\n",
       "      <td>23.90</td>\n",
       "      <td>87.11</td>\n",
       "      <td>29.85</td>\n",
       "      <td>87.64</td>\n",
       "      <td>29.85</td>\n",
       "      <td>58.50</td>\n",
       "      <td>42.00</td>\n",
       "      <td>25.56</td>\n",
       "      <td>0</td>\n",
       "    </tr>\n",
       "    <tr>\n",
       "      <th>3</th>\n",
       "      <td>3.62</td>\n",
       "      <td>3.04</td>\n",
       "      <td>4.17</td>\n",
       "      <td>4.04</td>\n",
       "      <td>3.56</td>\n",
       "      <td>4.98</td>\n",
       "      <td>2.40</td>\n",
       "      <td>88.10</td>\n",
       "      <td>88.12</td>\n",
       "      <td>1</td>\n",
       "      <td>...</td>\n",
       "      <td>91.98</td>\n",
       "      <td>27.10</td>\n",
       "      <td>68.75</td>\n",
       "      <td>31.60</td>\n",
       "      <td>64.25</td>\n",
       "      <td>31.47</td>\n",
       "      <td>72.30</td>\n",
       "      <td>43.24</td>\n",
       "      <td>28.38</td>\n",
       "      <td>0</td>\n",
       "    </tr>\n",
       "    <tr>\n",
       "      <th>4</th>\n",
       "      <td>4.08</td>\n",
       "      <td>2.68</td>\n",
       "      <td>4.73</td>\n",
       "      <td>3.20</td>\n",
       "      <td>3.11</td>\n",
       "      <td>5.39</td>\n",
       "      <td>3.46</td>\n",
       "      <td>87.01</td>\n",
       "      <td>87.03</td>\n",
       "      <td>1</td>\n",
       "      <td>...</td>\n",
       "      <td>92.11</td>\n",
       "      <td>26.76</td>\n",
       "      <td>68.74</td>\n",
       "      <td>32.30</td>\n",
       "      <td>64.23</td>\n",
       "      <td>32.17</td>\n",
       "      <td>72.53</td>\n",
       "      <td>44.00</td>\n",
       "      <td>28.04</td>\n",
       "      <td>0</td>\n",
       "    </tr>\n",
       "  </tbody>\n",
       "</table>\n",
       "<p>5 rows × 37 columns</p>\n",
       "</div>"
      ],
      "text/plain": [
       "   L_T1  L_T2  L_T3  L_T4  L_T5  L_T6  L_T7  F_PU1  F_PU2  S_PU2  ...  P_J256  \\\n",
       "0  2.44  5.24  3.19  4.10  2.86  5.50  4.39  93.63  93.65      1  ...   70.00   \n",
       "1  2.66  4.53  3.20  4.18  3.29  5.44  4.53  89.41  89.43      1  ...   87.73   \n",
       "2  3.11  3.66  3.66  4.21  3.87  5.15  3.22  89.88  89.89      1  ...   89.29   \n",
       "3  3.62  3.04  4.17  4.04  3.56  4.98  2.40  88.10  88.12      1  ...   91.98   \n",
       "4  4.08  2.68  4.73  3.20  3.11  5.39  3.46  87.01  87.03      1  ...   92.11   \n",
       "\n",
       "   P_J289  P_J415  P_J302  P_J306  P_J307  P_J317  P_J14  P_J422  ATT_FLAG  \n",
       "0   28.22   85.87   21.69   82.72   21.58   71.99  39.33   29.64         0  \n",
       "1   24.45   84.87   29.81   86.62   29.81   59.76  42.17   26.15         0  \n",
       "2   23.90   87.11   29.85   87.64   29.85   58.50  42.00   25.56         0  \n",
       "3   27.10   68.75   31.60   64.25   31.47   72.30  43.24   28.38         0  \n",
       "4   26.76   68.74   32.30   64.23   32.17   72.53  44.00   28.04         0  \n",
       "\n",
       "[5 rows x 37 columns]"
      ]
     },
     "execution_count": 30,
     "metadata": {},
     "output_type": "execute_result"
    }
   ],
   "source": [
    "df.head()"
   ]
  },
  {
   "cell_type": "code",
   "execution_count": 31,
   "id": "3f36a6e4",
   "metadata": {},
   "outputs": [],
   "source": [
    "x1 = df.drop(labels='ATT_FLAG', axis=1)\n",
    "y1 = df.loc[:,'ATT_FLAG']"
   ]
  },
  {
   "cell_type": "code",
   "execution_count": 32,
   "id": "1f62c6c3",
   "metadata": {},
   "outputs": [
    {
     "name": "stdout",
     "output_type": "stream",
     "text": [
      "OUR DATASET COUNT         :  Counter({0: 3685, 1: 492})\n",
      "OVER SAMPLING DATA COUNT  :  Counter({0: 3685, 1: 3685})\n"
     ]
    }
   ],
   "source": [
    "import imblearn\n",
    "from imblearn.over_sampling import RandomOverSampler\n",
    "from collections import Counter\n",
    "\n",
    "ros =RandomOverSampler(random_state=42)\n",
    "x,y=ros.fit_resample(x1,y1)\n",
    "print(\"OUR DATASET COUNT         : \", Counter(y1))\n",
    "print(\"OVER SAMPLING DATA COUNT  : \", Counter(y))"
   ]
  },
  {
   "cell_type": "code",
   "execution_count": 33,
   "id": "4bb6edac",
   "metadata": {},
   "outputs": [
    {
     "name": "stdout",
     "output_type": "stream",
     "text": [
      "NUMBER OF TRAIN DATASET    :  5896\n",
      "NUMBER OF TEST DATASET      :  1474\n",
      "TOTAL NUMBER OF DATASET    :  7370\n"
     ]
    }
   ],
   "source": [
    "from sklearn.model_selection import train_test_split\n",
    "x_train, x_test, y_train, y_test = train_test_split(x, y, test_size=0.20, random_state=42, stratify=y)\n",
    "print(\"NUMBER OF TRAIN DATASET    : \", len(x_train))\n",
    "print(\"NUMBER OF TEST DATASET      : \", len(x_test))\n",
    "print(\"TOTAL NUMBER OF DATASET    : \", len(x_train)+len(x_test))"
   ]
  },
  {
   "cell_type": "code",
   "execution_count": 34,
   "id": "cbb02177",
   "metadata": {},
   "outputs": [
    {
     "name": "stdout",
     "output_type": "stream",
     "text": [
      "NUMBER OF TRAIN DATASET    :  5896\n",
      "NUMBER OF TEST DATASET      :  1474\n",
      "TOTAL NUMBER OF DATASET    :  7370\n"
     ]
    }
   ],
   "source": [
    "print(\"NUMBER OF TRAIN DATASET    : \", len(y_train))\n",
    "print(\"NUMBER OF TEST DATASET      : \", len(y_test))\n",
    "print(\"TOTAL NUMBER OF DATASET    : \", len(y_train)+len(y_test))"
   ]
  },
  {
   "cell_type": "code",
   "execution_count": 35,
   "id": "17144aa9",
   "metadata": {},
   "outputs": [],
   "source": [
    "from sklearn.preprocessing import StandardScaler\n",
    "\n",
    "# Standardize the features\n",
    "scaler = StandardScaler()\n",
    "x_train = scaler.fit_transform(x_train)\n",
    "x_test = scaler.transform(x_test)"
   ]
  },
  {
   "cell_type": "code",
   "execution_count": 36,
   "id": "1fa5db0a",
   "metadata": {},
   "outputs": [],
   "source": [
    "import tensorflow as tf\n",
    "from tensorflow import keras\n",
    "from tensorflow.keras import layers"
   ]
  },
  {
   "cell_type": "code",
   "execution_count": 37,
   "id": "13c940ce",
   "metadata": {},
   "outputs": [
    {
     "name": "stdout",
     "output_type": "stream",
     "text": [
      "Model: \"sequential_1\"\n",
      "_________________________________________________________________\n",
      " Layer (type)                Output Shape              Param #   \n",
      "=================================================================\n",
      " dense_3 (Dense)             (None, 64)                2368      \n",
      "                                                                 \n",
      " dense_4 (Dense)             (None, 32)                2080      \n",
      "                                                                 \n",
      " dense_5 (Dense)             (None, 1)                 33        \n",
      "                                                                 \n",
      "=================================================================\n",
      "Total params: 4481 (17.50 KB)\n",
      "Trainable params: 4481 (17.50 KB)\n",
      "Non-trainable params: 0 (0.00 Byte)\n",
      "_________________________________________________________________\n"
     ]
    }
   ],
   "source": [
    "# Create the neural network model\n",
    "model = keras.Sequential([\n",
    "    layers.Input(shape=x_train.shape[1]),\n",
    "    layers.Dense(64, activation='relu'),\n",
    "    layers.Dense(32, activation='relu'),\n",
    "    layers.Dense(1, activation='sigmoid')\n",
    "])\n",
    "\n",
    "model.summary() "
   ]
  },
  {
   "cell_type": "code",
   "execution_count": 38,
   "id": "4a749cc7",
   "metadata": {},
   "outputs": [],
   "source": [
    "# Compile the model\n",
    "model.compile(optimizer='adam', loss='binary_crossentropy', metrics=['accuracy'])"
   ]
  },
  {
   "cell_type": "code",
   "execution_count": 39,
   "id": "b73a72f8",
   "metadata": {},
   "outputs": [],
   "source": [
    "# Train the model\n",
    "epochs = 100\n",
    "batch_size = 32"
   ]
  },
  {
   "cell_type": "code",
   "execution_count": 40,
   "id": "61ed9605",
   "metadata": {},
   "outputs": [
    {
     "name": "stdout",
     "output_type": "stream",
     "text": [
      "Epoch 1/100\n",
      "148/148 [==============================] - 7s 18ms/step - loss: 0.5756 - accuracy: 0.6766 - val_loss: 0.5200 - val_accuracy: 0.7339\n",
      "Epoch 2/100\n",
      "148/148 [==============================] - 2s 14ms/step - loss: 0.4777 - accuracy: 0.7670 - val_loss: 0.4694 - val_accuracy: 0.7949\n",
      "Epoch 3/100\n",
      "148/148 [==============================] - 2s 12ms/step - loss: 0.4214 - accuracy: 0.8123 - val_loss: 0.4236 - val_accuracy: 0.8169\n",
      "Epoch 4/100\n",
      "148/148 [==============================] - 1s 7ms/step - loss: 0.3672 - accuracy: 0.8492 - val_loss: 0.3959 - val_accuracy: 0.8339\n",
      "Epoch 5/100\n",
      "148/148 [==============================] - 1s 10ms/step - loss: 0.3281 - accuracy: 0.8651 - val_loss: 0.3615 - val_accuracy: 0.8585\n",
      "Epoch 6/100\n",
      "148/148 [==============================] - 2s 11ms/step - loss: 0.2955 - accuracy: 0.8855 - val_loss: 0.3441 - val_accuracy: 0.8534\n",
      "Epoch 7/100\n",
      "148/148 [==============================] - 2s 11ms/step - loss: 0.2707 - accuracy: 0.8895 - val_loss: 0.3230 - val_accuracy: 0.8576\n",
      "Epoch 8/100\n",
      "148/148 [==============================] - 2s 11ms/step - loss: 0.2484 - accuracy: 0.9008 - val_loss: 0.3104 - val_accuracy: 0.8763\n",
      "Epoch 9/100\n",
      "148/148 [==============================] - 2s 11ms/step - loss: 0.2313 - accuracy: 0.9099 - val_loss: 0.3078 - val_accuracy: 0.8669\n",
      "Epoch 10/100\n",
      "148/148 [==============================] - 1s 10ms/step - loss: 0.2138 - accuracy: 0.9167 - val_loss: 0.2856 - val_accuracy: 0.8975\n",
      "Epoch 11/100\n",
      "148/148 [==============================] - 3s 18ms/step - loss: 0.1992 - accuracy: 0.9249 - val_loss: 0.2707 - val_accuracy: 0.9034\n",
      "Epoch 12/100\n",
      "148/148 [==============================] - 1s 9ms/step - loss: 0.1813 - accuracy: 0.9343 - val_loss: 0.2674 - val_accuracy: 0.8983\n",
      "Epoch 13/100\n",
      "148/148 [==============================] - 3s 19ms/step - loss: 0.1735 - accuracy: 0.9360 - val_loss: 0.2563 - val_accuracy: 0.9076\n",
      "Epoch 14/100\n",
      "148/148 [==============================] - 2s 11ms/step - loss: 0.1648 - accuracy: 0.9408 - val_loss: 0.2539 - val_accuracy: 0.9144\n",
      "Epoch 15/100\n",
      "148/148 [==============================] - 3s 18ms/step - loss: 0.1504 - accuracy: 0.9466 - val_loss: 0.2475 - val_accuracy: 0.9195\n",
      "Epoch 16/100\n",
      "148/148 [==============================] - 3s 20ms/step - loss: 0.1452 - accuracy: 0.9472 - val_loss: 0.2614 - val_accuracy: 0.9119\n",
      "Epoch 17/100\n",
      "148/148 [==============================] - 2s 13ms/step - loss: 0.1367 - accuracy: 0.9476 - val_loss: 0.2310 - val_accuracy: 0.9246\n",
      "Epoch 18/100\n",
      "148/148 [==============================] - 2s 16ms/step - loss: 0.1269 - accuracy: 0.9517 - val_loss: 0.2328 - val_accuracy: 0.9263\n",
      "Epoch 19/100\n",
      "148/148 [==============================] - 1s 10ms/step - loss: 0.1195 - accuracy: 0.9608 - val_loss: 0.2350 - val_accuracy: 0.9237\n",
      "Epoch 20/100\n",
      "148/148 [==============================] - 3s 17ms/step - loss: 0.1111 - accuracy: 0.9648 - val_loss: 0.2270 - val_accuracy: 0.9229\n",
      "Epoch 21/100\n",
      "148/148 [==============================] - 2s 17ms/step - loss: 0.1106 - accuracy: 0.9616 - val_loss: 0.2258 - val_accuracy: 0.9297\n",
      "Epoch 22/100\n",
      "148/148 [==============================] - 3s 18ms/step - loss: 0.1052 - accuracy: 0.9612 - val_loss: 0.2338 - val_accuracy: 0.9381\n",
      "Epoch 23/100\n",
      "148/148 [==============================] - 2s 14ms/step - loss: 0.0991 - accuracy: 0.9678 - val_loss: 0.2298 - val_accuracy: 0.9271\n",
      "Epoch 24/100\n",
      "148/148 [==============================] - 3s 18ms/step - loss: 0.0932 - accuracy: 0.9667 - val_loss: 0.2180 - val_accuracy: 0.9322\n",
      "Epoch 25/100\n",
      "148/148 [==============================] - 2s 15ms/step - loss: 0.0864 - accuracy: 0.9714 - val_loss: 0.2137 - val_accuracy: 0.9381\n",
      "Epoch 26/100\n",
      "148/148 [==============================] - 2s 14ms/step - loss: 0.0870 - accuracy: 0.9707 - val_loss: 0.2410 - val_accuracy: 0.9271\n",
      "Epoch 27/100\n",
      "148/148 [==============================] - 1s 9ms/step - loss: 0.0810 - accuracy: 0.9775 - val_loss: 0.2184 - val_accuracy: 0.9441\n",
      "Epoch 28/100\n",
      "148/148 [==============================] - 1s 8ms/step - loss: 0.0753 - accuracy: 0.9754 - val_loss: 0.2091 - val_accuracy: 0.9424\n",
      "Epoch 29/100\n",
      "148/148 [==============================] - 2s 13ms/step - loss: 0.0766 - accuracy: 0.9756 - val_loss: 0.2120 - val_accuracy: 0.9432\n",
      "Epoch 30/100\n",
      "148/148 [==============================] - 2s 11ms/step - loss: 0.0721 - accuracy: 0.9777 - val_loss: 0.2084 - val_accuracy: 0.9449\n",
      "Epoch 31/100\n",
      "148/148 [==============================] - 1s 9ms/step - loss: 0.0654 - accuracy: 0.9801 - val_loss: 0.2111 - val_accuracy: 0.9415\n",
      "Epoch 32/100\n",
      "148/148 [==============================] - 2s 12ms/step - loss: 0.0666 - accuracy: 0.9803 - val_loss: 0.2272 - val_accuracy: 0.9415\n",
      "Epoch 33/100\n",
      "148/148 [==============================] - 1s 10ms/step - loss: 0.0652 - accuracy: 0.9799 - val_loss: 0.2104 - val_accuracy: 0.9458\n",
      "Epoch 34/100\n",
      "148/148 [==============================] - 2s 15ms/step - loss: 0.0602 - accuracy: 0.9813 - val_loss: 0.2253 - val_accuracy: 0.9441\n",
      "Epoch 35/100\n",
      "148/148 [==============================] - 2s 15ms/step - loss: 0.0630 - accuracy: 0.9805 - val_loss: 0.2301 - val_accuracy: 0.9407\n",
      "Epoch 36/100\n",
      "148/148 [==============================] - 1s 9ms/step - loss: 0.0609 - accuracy: 0.9799 - val_loss: 0.2136 - val_accuracy: 0.9458\n",
      "Epoch 37/100\n",
      "148/148 [==============================] - 2s 16ms/step - loss: 0.0545 - accuracy: 0.9847 - val_loss: 0.2249 - val_accuracy: 0.9424\n",
      "Epoch 38/100\n",
      "148/148 [==============================] - 2s 17ms/step - loss: 0.0554 - accuracy: 0.9835 - val_loss: 0.2053 - val_accuracy: 0.9517\n",
      "Epoch 39/100\n",
      "148/148 [==============================] - 2s 11ms/step - loss: 0.0483 - accuracy: 0.9875 - val_loss: 0.2332 - val_accuracy: 0.9407\n",
      "Epoch 40/100\n",
      "148/148 [==============================] - 2s 17ms/step - loss: 0.0463 - accuracy: 0.9881 - val_loss: 0.1985 - val_accuracy: 0.9602\n",
      "Epoch 41/100\n",
      "148/148 [==============================] - 3s 17ms/step - loss: 0.0466 - accuracy: 0.9888 - val_loss: 0.2052 - val_accuracy: 0.9517\n",
      "Epoch 42/100\n",
      "148/148 [==============================] - 2s 13ms/step - loss: 0.0497 - accuracy: 0.9843 - val_loss: 0.2184 - val_accuracy: 0.9466\n",
      "Epoch 43/100\n",
      "148/148 [==============================] - 2s 16ms/step - loss: 0.0454 - accuracy: 0.9869 - val_loss: 0.2240 - val_accuracy: 0.9483\n",
      "Epoch 44/100\n",
      "148/148 [==============================] - 2s 11ms/step - loss: 0.0416 - accuracy: 0.9879 - val_loss: 0.2109 - val_accuracy: 0.9534\n",
      "Epoch 45/100\n",
      "148/148 [==============================] - 2s 15ms/step - loss: 0.0396 - accuracy: 0.9873 - val_loss: 0.2162 - val_accuracy: 0.9542\n",
      "Epoch 46/100\n",
      "148/148 [==============================] - 3s 20ms/step - loss: 0.0384 - accuracy: 0.9885 - val_loss: 0.2362 - val_accuracy: 0.9407\n",
      "Epoch 47/100\n",
      "148/148 [==============================] - 1s 10ms/step - loss: 0.0438 - accuracy: 0.9866 - val_loss: 0.2094 - val_accuracy: 0.9551\n",
      "Epoch 48/100\n",
      "148/148 [==============================] - 2s 13ms/step - loss: 0.0372 - accuracy: 0.9905 - val_loss: 0.2225 - val_accuracy: 0.9525\n",
      "Epoch 49/100\n",
      "148/148 [==============================] - 2s 14ms/step - loss: 0.0363 - accuracy: 0.9911 - val_loss: 0.2210 - val_accuracy: 0.9551\n",
      "Epoch 50/100\n",
      "148/148 [==============================] - 2s 13ms/step - loss: 0.0320 - accuracy: 0.9924 - val_loss: 0.2837 - val_accuracy: 0.9271\n",
      "Epoch 51/100\n",
      "148/148 [==============================] - 1s 7ms/step - loss: 0.0370 - accuracy: 0.9894 - val_loss: 0.2183 - val_accuracy: 0.9517\n",
      "Epoch 52/100\n",
      "148/148 [==============================] - 1s 7ms/step - loss: 0.0344 - accuracy: 0.9909 - val_loss: 0.2021 - val_accuracy: 0.9593\n",
      "Epoch 53/100\n",
      "148/148 [==============================] - 2s 12ms/step - loss: 0.0374 - accuracy: 0.9894 - val_loss: 0.2294 - val_accuracy: 0.9466\n",
      "Epoch 54/100\n",
      "148/148 [==============================] - 1s 9ms/step - loss: 0.0311 - accuracy: 0.9913 - val_loss: 0.2042 - val_accuracy: 0.9559\n",
      "Epoch 55/100\n",
      "148/148 [==============================] - 1s 7ms/step - loss: 0.0265 - accuracy: 0.9934 - val_loss: 0.2099 - val_accuracy: 0.9602\n",
      "Epoch 56/100\n",
      "148/148 [==============================] - 2s 12ms/step - loss: 0.0318 - accuracy: 0.9907 - val_loss: 0.2312 - val_accuracy: 0.9492\n",
      "Epoch 57/100\n",
      "148/148 [==============================] - 2s 14ms/step - loss: 0.0226 - accuracy: 0.9970 - val_loss: 0.2242 - val_accuracy: 0.9551\n",
      "Epoch 58/100\n",
      "148/148 [==============================] - 2s 10ms/step - loss: 0.0256 - accuracy: 0.9934 - val_loss: 0.2137 - val_accuracy: 0.9593\n",
      "Epoch 59/100\n",
      "148/148 [==============================] - 1s 8ms/step - loss: 0.0233 - accuracy: 0.9949 - val_loss: 0.2130 - val_accuracy: 0.9610\n",
      "Epoch 60/100\n",
      "148/148 [==============================] - 1s 10ms/step - loss: 0.0245 - accuracy: 0.9945 - val_loss: 0.2120 - val_accuracy: 0.9610\n",
      "Epoch 61/100\n",
      "148/148 [==============================] - 2s 11ms/step - loss: 0.0240 - accuracy: 0.9945 - val_loss: 0.2100 - val_accuracy: 0.9534\n",
      "Epoch 62/100\n",
      "148/148 [==============================] - 1s 9ms/step - loss: 0.0226 - accuracy: 0.9945 - val_loss: 0.2056 - val_accuracy: 0.9644\n",
      "Epoch 63/100\n",
      "148/148 [==============================] - 1s 9ms/step - loss: 0.0296 - accuracy: 0.9909 - val_loss: 0.2333 - val_accuracy: 0.9449\n",
      "Epoch 64/100\n",
      "148/148 [==============================] - 1s 9ms/step - loss: 0.0254 - accuracy: 0.9922 - val_loss: 0.2330 - val_accuracy: 0.9551\n",
      "Epoch 65/100\n",
      "148/148 [==============================] - 2s 11ms/step - loss: 0.0210 - accuracy: 0.9960 - val_loss: 0.2688 - val_accuracy: 0.9508\n",
      "Epoch 66/100\n",
      "148/148 [==============================] - 2s 12ms/step - loss: 0.0260 - accuracy: 0.9915 - val_loss: 0.2309 - val_accuracy: 0.9610\n",
      "Epoch 67/100\n",
      "148/148 [==============================] - 2s 12ms/step - loss: 0.0176 - accuracy: 0.9960 - val_loss: 0.2258 - val_accuracy: 0.9568\n",
      "Epoch 68/100\n",
      "148/148 [==============================] - 2s 11ms/step - loss: 0.0217 - accuracy: 0.9947 - val_loss: 0.2177 - val_accuracy: 0.9610\n",
      "Epoch 69/100\n",
      "148/148 [==============================] - 1s 9ms/step - loss: 0.0214 - accuracy: 0.9943 - val_loss: 0.2413 - val_accuracy: 0.9593\n",
      "Epoch 70/100\n",
      "148/148 [==============================] - 2s 11ms/step - loss: 0.0190 - accuracy: 0.9951 - val_loss: 0.2345 - val_accuracy: 0.9619\n",
      "Epoch 71/100\n",
      "148/148 [==============================] - 1s 10ms/step - loss: 0.0350 - accuracy: 0.9873 - val_loss: 0.2320 - val_accuracy: 0.9576\n",
      "Epoch 72/100\n",
      "148/148 [==============================] - 2s 16ms/step - loss: 0.0266 - accuracy: 0.9909 - val_loss: 0.2662 - val_accuracy: 0.9525\n",
      "Epoch 73/100\n",
      "148/148 [==============================] - 2s 17ms/step - loss: 0.0239 - accuracy: 0.9936 - val_loss: 0.2280 - val_accuracy: 0.9619\n",
      "Epoch 74/100\n",
      "148/148 [==============================] - 2s 16ms/step - loss: 0.0177 - accuracy: 0.9955 - val_loss: 0.2345 - val_accuracy: 0.9627\n",
      "Epoch 75/100\n",
      "148/148 [==============================] - 2s 16ms/step - loss: 0.0110 - accuracy: 0.9985 - val_loss: 0.2228 - val_accuracy: 0.9644\n",
      "Epoch 76/100\n",
      "148/148 [==============================] - 2s 14ms/step - loss: 0.0103 - accuracy: 0.9996 - val_loss: 0.2363 - val_accuracy: 0.9636\n",
      "Epoch 77/100\n",
      "148/148 [==============================] - 3s 20ms/step - loss: 0.0249 - accuracy: 0.9924 - val_loss: 0.2482 - val_accuracy: 0.9610\n",
      "Epoch 78/100\n",
      "148/148 [==============================] - 3s 18ms/step - loss: 0.0269 - accuracy: 0.9911 - val_loss: 0.2507 - val_accuracy: 0.9542\n",
      "Epoch 79/100\n",
      "148/148 [==============================] - 3s 17ms/step - loss: 0.0190 - accuracy: 0.9947 - val_loss: 0.2420 - val_accuracy: 0.9644\n",
      "Epoch 80/100\n",
      "148/148 [==============================] - 3s 17ms/step - loss: 0.0134 - accuracy: 0.9981 - val_loss: 0.2362 - val_accuracy: 0.9619\n",
      "Epoch 81/100\n",
      "148/148 [==============================] - 2s 13ms/step - loss: 0.0115 - accuracy: 0.9981 - val_loss: 0.2513 - val_accuracy: 0.9576\n",
      "Epoch 82/100\n",
      "148/148 [==============================] - 2s 16ms/step - loss: 0.0094 - accuracy: 0.9985 - val_loss: 0.2403 - val_accuracy: 0.9669\n",
      "Epoch 83/100\n",
      "148/148 [==============================] - 2s 15ms/step - loss: 0.0113 - accuracy: 0.9977 - val_loss: 0.2658 - val_accuracy: 0.9568\n",
      "Epoch 84/100\n",
      "148/148 [==============================] - 2s 12ms/step - loss: 0.0158 - accuracy: 0.9953 - val_loss: 0.2655 - val_accuracy: 0.9593\n",
      "Epoch 85/100\n",
      "148/148 [==============================] - 2s 16ms/step - loss: 0.0179 - accuracy: 0.9947 - val_loss: 0.2271 - val_accuracy: 0.9669\n",
      "Epoch 86/100\n",
      "148/148 [==============================] - 2s 15ms/step - loss: 0.0173 - accuracy: 0.9964 - val_loss: 0.2358 - val_accuracy: 0.9585\n",
      "Epoch 87/100\n",
      "148/148 [==============================] - 1s 7ms/step - loss: 0.0207 - accuracy: 0.9943 - val_loss: 0.2424 - val_accuracy: 0.9627\n",
      "Epoch 88/100\n",
      "148/148 [==============================] - 2s 12ms/step - loss: 0.0108 - accuracy: 0.9981 - val_loss: 0.2640 - val_accuracy: 0.9525\n",
      "Epoch 89/100\n",
      "148/148 [==============================] - 1s 10ms/step - loss: 0.0092 - accuracy: 0.9989 - val_loss: 0.2306 - val_accuracy: 0.9678\n",
      "Epoch 90/100\n",
      "148/148 [==============================] - 2s 14ms/step - loss: 0.0116 - accuracy: 0.9966 - val_loss: 0.2544 - val_accuracy: 0.9585\n",
      "Epoch 91/100\n",
      "148/148 [==============================] - 2s 10ms/step - loss: 0.0380 - accuracy: 0.9869 - val_loss: 0.3168 - val_accuracy: 0.9441\n",
      "Epoch 92/100\n",
      "148/148 [==============================] - 2s 13ms/step - loss: 0.0280 - accuracy: 0.9922 - val_loss: 0.2635 - val_accuracy: 0.9610\n",
      "Epoch 93/100\n",
      "148/148 [==============================] - 3s 19ms/step - loss: 0.0119 - accuracy: 0.9970 - val_loss: 0.2527 - val_accuracy: 0.9602\n",
      "Epoch 94/100\n",
      "148/148 [==============================] - 2s 15ms/step - loss: 0.0087 - accuracy: 0.9981 - val_loss: 0.2622 - val_accuracy: 0.9593\n",
      "Epoch 95/100\n",
      "148/148 [==============================] - 1s 10ms/step - loss: 0.0061 - accuracy: 0.9992 - val_loss: 0.2442 - val_accuracy: 0.9619\n",
      "Epoch 96/100\n",
      "148/148 [==============================] - 2s 14ms/step - loss: 0.0084 - accuracy: 0.9983 - val_loss: 0.2512 - val_accuracy: 0.9627\n",
      "Epoch 97/100\n",
      "148/148 [==============================] - 3s 17ms/step - loss: 0.0106 - accuracy: 0.9977 - val_loss: 0.2599 - val_accuracy: 0.9610\n",
      "Epoch 98/100\n",
      "148/148 [==============================] - 2s 11ms/step - loss: 0.0106 - accuracy: 0.9972 - val_loss: 0.2516 - val_accuracy: 0.9644\n",
      "Epoch 99/100\n",
      "148/148 [==============================] - 2s 15ms/step - loss: 0.0061 - accuracy: 0.9989 - val_loss: 0.2655 - val_accuracy: 0.9602\n",
      "Epoch 100/100\n",
      "148/148 [==============================] - 2s 12ms/step - loss: 0.0069 - accuracy: 0.9992 - val_loss: 0.2535 - val_accuracy: 0.9644\n"
     ]
    }
   ],
   "source": [
    "history = model.fit(x_train, y_train, epochs=epochs, batch_size=batch_size, validation_split=0.2, verbose=1)"
   ]
  },
  {
   "cell_type": "code",
   "execution_count": 41,
   "id": "ebcfcb9e",
   "metadata": {},
   "outputs": [
    {
     "name": "stdout",
     "output_type": "stream",
     "text": [
      "47/47 [==============================] - 2s 8ms/step\n"
     ]
    }
   ],
   "source": [
    "# Evaluate the model on the test data\n",
    "predicted = (model.predict(x_test) > 0.5).astype(\"int32\")  # Convert probabilities to binary labels"
   ]
  },
  {
   "cell_type": "code",
   "execution_count": 42,
   "id": "15d9d0f0",
   "metadata": {},
   "outputs": [
    {
     "name": "stdout",
     "output_type": "stream",
     "text": [
      "THE ACCURACY SCORE OF ARTIFICIAL NEURAL NETWORK IS : 97.55766621438264\n"
     ]
    }
   ],
   "source": [
    "from sklearn.metrics import accuracy_score\n",
    "a = accuracy_score(y_test,predicted)\n",
    "print(\"THE ACCURACY SCORE OF ARTIFICIAL NEURAL NETWORK IS :\",a*100)"
   ]
  },
  {
   "cell_type": "code",
   "execution_count": 43,
   "id": "f10f1ea9",
   "metadata": {},
   "outputs": [
    {
     "name": "stdout",
     "output_type": "stream",
     "text": [
      "THE HAMMING LOSS OF ARTIFICIAL NEURAL NETWORK IS : 2.4423337856173677\n"
     ]
    }
   ],
   "source": [
    "from sklearn.metrics import hamming_loss\n",
    "hl = hamming_loss(y_test,predicted)\n",
    "print(\"THE HAMMING LOSS OF ARTIFICIAL NEURAL NETWORK IS :\",hl*100)"
   ]
  },
  {
   "cell_type": "code",
   "execution_count": 44,
   "id": "369addbd",
   "metadata": {},
   "outputs": [
    {
     "name": "stdout",
     "output_type": "stream",
     "text": [
      "THE CONFUSION MATRIX SCORE OF ARTIFICIAL NEURAL NETWORK:\n",
      "\n",
      "\n",
      " [[708  29]\n",
      " [  7 730]]\n"
     ]
    }
   ],
   "source": [
    "from sklearn.metrics import confusion_matrix\n",
    "cm = confusion_matrix(y_test,predicted)\n",
    "print('THE CONFUSION MATRIX SCORE OF ARTIFICIAL NEURAL NETWORK:\\n\\n\\n',cm)"
   ]
  },
  {
   "cell_type": "code",
   "execution_count": 45,
   "id": "fcca792c",
   "metadata": {},
   "outputs": [
    {
     "name": "stdout",
     "output_type": "stream",
     "text": [
      "THE PRECISION SCORE OF ARTIFICIAL NEURAL NETWORK:\n",
      "\n",
      " 96.17918313570487\n"
     ]
    }
   ],
   "source": [
    "from sklearn.metrics import precision_score\n",
    "P = precision_score(y_test,predicted)\n",
    "print('THE PRECISION SCORE OF ARTIFICIAL NEURAL NETWORK:\\n\\n',P*100)"
   ]
  },
  {
   "cell_type": "code",
   "execution_count": 46,
   "id": "d83a0aab",
   "metadata": {},
   "outputs": [
    {
     "name": "stdout",
     "output_type": "stream",
     "text": [
      "THE RECALL SCORE OF ARTIFICIAL NEURAL NETWORK:\n",
      "\n",
      " 99.05020352781547\n"
     ]
    }
   ],
   "source": [
    "from sklearn.metrics import recall_score\n",
    "R = recall_score(y_test,predicted)\n",
    "print('THE RECALL SCORE OF ARTIFICIAL NEURAL NETWORK:\\n\\n',R*100)"
   ]
  },
  {
   "cell_type": "code",
   "execution_count": 47,
   "id": "b5adcadf",
   "metadata": {},
   "outputs": [
    {
     "name": "stdout",
     "output_type": "stream",
     "text": [
      "THE FI SCORE OF ARTIFICIAL NEURAL NETWORK:\n",
      "\n",
      " 97.59358288770053\n"
     ]
    }
   ],
   "source": [
    "from sklearn.metrics import f1_score\n",
    "F = f1_score(y_test,predicted)\n",
    "print('THE FI SCORE OF ARTIFICIAL NEURAL NETWORK:\\n\\n',F*100)"
   ]
  },
  {
   "cell_type": "code",
   "execution_count": 48,
   "id": "140e5feb",
   "metadata": {
    "scrolled": true
   },
   "outputs": [
    {
     "name": "stdout",
     "output_type": "stream",
     "text": [
      "THE CONFUSION MATRIX SCORE OF ARTIFICIAL NEURAL NETWORK:\n",
      "\n",
      "\n",
      "[[708  29]\n",
      " [  7 730]]\n"
     ]
    },
    {
     "data": {
      "image/png": "[encoded data removed]",
      "text/plain": [
       "<Figure size 640x480 with 2 Axes>"
      ]
     },
     "metadata": {},
     "output_type": "display_data"
    }
   ],
   "source": [
    "def plot_confusion_matrix(cm, title='THE CONFUSION MATRIX SCORE OF ARTIFICIAL NEURAL NETWORK\\n\\n', cmap=plt.cm.Blues):\n",
    "    target_names=['']\n",
    "    plt.imshow(cm, interpolation='nearest', cmap=cmap)\n",
    "    plt.title(title)\n",
    "    plt.colorbar()\n",
    "    tick_marks = np.arange(len(target_names))\n",
    "    plt.xticks(tick_marks, target_names, rotation=45)\n",
    "    plt.yticks(tick_marks, target_names)\n",
    "    plt.tight_layout()\n",
    "    plt.ylabel('True label')\n",
    "    plt.xlabel('Predicted label')\n",
    "\n",
    "cm=confusion_matrix(y_test, predicted)\n",
    "print('THE CONFUSION MATRIX SCORE OF ARTIFICIAL NEURAL NETWORK:\\n\\n')\n",
    "print(cm)\n",
    "\n",
    "sns.heatmap(cm/np.sum(cm), annot=True, cmap = 'Blues', annot_kws={\"size\": 16},fmt='.2%')\n",
    "plt.show()"
   ]
  },
  {
   "cell_type": "code",
   "execution_count": 49,
   "id": "ee5774eb",
   "metadata": {},
   "outputs": [
    {
     "data": {
      "image/png": "[encoded data removed]",
      "text/plain": [
       "<Figure size 500x500 with 1 Axes>"
      ]
     },
     "metadata": {},
     "output_type": "display_data"
    }
   ],
   "source": [
    "def graph():\n",
    "    import matplotlib.pyplot as plt\n",
    "    data=[a]\n",
    "    alg=\"ARTIFICIAL NEURAL NETWORKE\"\n",
    "    plt.figure(figsize=(5,5))\n",
    "    b=plt.bar(alg,data,color=(\"blue\"))\n",
    "    plt.title(\"THE ACCURACY SCORE OF ARTIFICIAL NEURAL NETWORK IS\\n\\n\\n\")\n",
    "    plt.legend(b,data,fontsize=9)\n",
    "graph()"
   ]
  },
  {
   "cell_type": "code",
   "execution_count": 50,
   "id": "921ef995",
   "metadata": {},
   "outputs": [],
   "source": [
    "model.save(\"MODEL.h5\")"
   ]
  },
  {
   "cell_type": "code",
   "execution_count": null,
   "id": "c44eb3ed",
   "metadata": {},
   "outputs": [],
   "source": []
  },
  {
   "cell_type": "code",
   "execution_count": null,
   "id": "4dde61c5",
   "metadata": {},
   "outputs": [],
   "source": []
  }
 ],
 "metadata": {
  "kernelspec": {
   "display_name": "Python 3 (ipykernel)",
   "language": "python",
   "name": "python3"
  },
  "language_info": {
   "codemirror_mode": {
    "name": "ipython",
    "version": 3
   },
   "file_extension": ".py",
   "mimetype": "text/x-python",
   "name": "python",
   "nbconvert_exporter": "python",
   "pygments_lexer": "ipython3",
   "version": "3.9.18"
  }
 },
 "nbformat": 4,
 "nbformat_minor": 5
}
